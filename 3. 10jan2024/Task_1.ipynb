{
 "cells": [
  {
   "cell_type": "code",
   "execution_count": 89,
   "id": "fde1f5be-179f-4eb9-a824-59111dfbbb85",
   "metadata": {},
   "outputs": [],
   "source": [
    "import cv2\n",
    "import matplotlib.pyplot as plt\n",
    "import numpy as np"
   ]
  },
  {
   "cell_type": "code",
   "execution_count": 90,
   "id": "e476253f-669f-4403-8f27-3498e5ba4b5a",
   "metadata": {},
   "outputs": [],
   "source": [
    "img=cv2.imread(\"unilogo.png\",cv2.IMREAD_GRAYSCALE)\n",
    "img1=cv2.imread(\"unilogo.png\",cv2.IMREAD_COLOR)"
   ]
  },
  {
   "cell_type": "code",
   "execution_count": 91,
   "id": "4e9d5b5c-7f18-433f-b62a-c3bbe3b19d70",
   "metadata": {},
   "outputs": [],
   "source": [
    "cv2.imshow(\"JU Logo in GrayScale\",img)\n",
    "cv2.waitKey(0)\n",
    "cv2.destroyAllWindows()"
   ]
  },
  {
   "cell_type": "code",
   "execution_count": 92,
   "id": "6171004f-f11b-40a2-9986-abc3aa790634",
   "metadata": {},
   "outputs": [],
   "source": [
    "cv2.imshow(\"JU Logo in Color\",img1)\n",
    "cv2.waitKey(0)\n",
    "cv2.destroyAllWindows()"
   ]
  },
  {
   "cell_type": "code",
   "execution_count": 93,
   "id": "8e53edbc-be5f-4cf9-a1ec-c3982b98a6a8",
   "metadata": {},
   "outputs": [],
   "source": [
    "directory=r'C:\\Users\\shawo\\Documents\\PythonPrep\\DIP\\Test'\n",
    "filename=\"Ju logo.png\""
   ]
  },
  {
   "cell_type": "code",
   "execution_count": 94,
   "id": "6f41b9e1-431f-409c-9100-111e2f7d2b3c",
   "metadata": {},
   "outputs": [
    {
     "data": {
      "text/plain": [
       "True"
      ]
     },
     "execution_count": 94,
     "metadata": {},
     "output_type": "execute_result"
    }
   ],
   "source": [
    "import os\n",
    "os.chdir(directory)\n",
    "cv2.imwrite(filename,img)"
   ]
  },
  {
   "cell_type": "code",
   "execution_count": 95,
   "id": "539c8b10-a1c2-463b-916c-50d68cf86a88",
   "metadata": {},
   "outputs": [
    {
     "data": {
      "text/plain": [
       "['.ipynb_checkpoints', 'Ju logo.png', 'mommy.jpg']"
      ]
     },
     "execution_count": 95,
     "metadata": {},
     "output_type": "execute_result"
    }
   ],
   "source": [
    "os.chdir(directory)\n",
    "os.listdir(directory)"
   ]
  },
  {
   "cell_type": "code",
   "execution_count": null,
   "id": "ebfe3e4d-e3e5-45b3-9077-2e4efe4c514f",
   "metadata": {},
   "outputs": [],
   "source": []
  }
 ],
 "metadata": {
  "kernelspec": {
   "display_name": "Python 3 (ipykernel)",
   "language": "python",
   "name": "python3"
  },
  "language_info": {
   "codemirror_mode": {
    "name": "ipython",
    "version": 3
   },
   "file_extension": ".py",
   "mimetype": "text/x-python",
   "name": "python",
   "nbconvert_exporter": "python",
   "pygments_lexer": "ipython3",
   "version": "3.11.4"
  },
  "widgets": {
   "application/vnd.jupyter.widget-state+json": {
    "state": {},
    "version_major": 2,
    "version_minor": 0
   }
  }
 },
 "nbformat": 4,
 "nbformat_minor": 5
}
