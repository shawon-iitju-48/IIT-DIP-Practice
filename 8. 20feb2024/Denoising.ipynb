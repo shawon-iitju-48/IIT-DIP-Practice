{
 "cells": [
  {
   "cell_type": "code",
   "execution_count": 9,
   "id": "9a09fa2b-0893-4b80-be6b-9602ea6e0542",
   "metadata": {},
   "outputs": [],
   "source": [
    "import cv2\n",
    "\n",
    "img_gaussian_noise = cv2.imread('image_with_gaussian_noise.png', 0)\n",
    "img_salt_pepper_noise = cv2.imread('image_with_salt_and_pepper_noise.jpg', 0)\n",
    "\n",
    "img = img_gaussian_noise\n",
    "\n",
    "bilateral_using_cv2 = cv2.bilateralFilter(img, 5, 20, 100, borderType=cv2.BORDER_CONSTANT)\n",
    "\n",
    "from skimage.restoration import denoise_bilateral\n",
    "bilateral_using_skimage = denoise_bilateral(img, sigma_color=0.05, sigma_spatial=15,channel_axis=None)\n",
    "\n",
    "cv2.imshow(\"Original\", img)  \n",
    "cv2.imshow(\"cv2 bilateral\", bilateral_using_cv2)\n",
    "cv2.imshow(\"Using skimage bilateral\", bilateral_using_skimage)\n",
    "\n",
    "cv2.waitKey(0)   \n",
    "cv2.destroyAllWindows()"
   ]
  },
  {
   "cell_type": "markdown",
   "id": "1493c445-4c9b-438d-8ef2-2d452941d63d",
   "metadata": {},
   "source": [
    "# denoising_using_NLM"
   ]
  },
  {
   "cell_type": "code",
   "execution_count": 17,
   "id": "ddefac7f-d696-4c32-afe8-f42d13a79f1d",
   "metadata": {},
   "outputs": [],
   "source": [
    "import cv2\n",
    "import numpy as np\n",
    "from skimage import io, img_as_float\n",
    "from skimage.restoration import denoise_nl_means, estimate_sigma\n",
    "\n",
    "img_gaussian_noise = img_as_float(io.imread('image_with_gaussian_noise.png', as_gray=True))\n",
    "img_salt_pepper_noise = img_as_float(io.imread('image_with_salt_and_pepper_noise.jpg', as_gray=True))\n",
    "\n",
    "img = img_gaussian_noise\n",
    "\n",
    "sigma_est = np.mean(estimate_sigma(img, channel_axis=True))\n",
    "#sigma_est = 0.1\n",
    "\n",
    "denoise_img = denoise_nl_means(img, h=1.15 * sigma_est, fast_mode=True,\n",
    "                               patch_size=5, patch_distance=3, channel_axis=None)\n",
    "\n",
    "\"\"\"\n",
    "When the fast_mode argument is False, a spatial Gaussian weighting is applied \n",
    "to the patches when computing patch distances. When fast_mode is True a \n",
    "faster algorithm employing uniform spatial weighting on the patches is applied.\n",
    "\n",
    "Larger h allows more smoothing between disimilar patches.\n",
    "\n",
    "\"\"\"\n",
    "\n",
    "#denoise_img_as_8byte = img_as_ubyte(denoise_img)\n",
    "\n",
    "\n",
    "\n",
    "cv2.imshow(\"Original\", img)\n",
    "cv2.imshow(\"NLM Filtered\", denoise_img)\n",
    "cv2.waitKey(0)          \n",
    "cv2.destroyAllWindows() "
   ]
  },
  {
   "cell_type": "code",
   "execution_count": null,
   "id": "75062cb1-098f-4f1b-9567-164456603fd6",
   "metadata": {},
   "outputs": [],
   "source": []
  }
 ],
 "metadata": {
  "kernelspec": {
   "display_name": "Python 3 (ipykernel)",
   "language": "python",
   "name": "python3"
  },
  "language_info": {
   "codemirror_mode": {
    "name": "ipython",
    "version": 3
   },
   "file_extension": ".py",
   "mimetype": "text/x-python",
   "name": "python",
   "nbconvert_exporter": "python",
   "pygments_lexer": "ipython3",
   "version": "3.11.4"
  },
  "widgets": {
   "application/vnd.jupyter.widget-state+json": {
    "state": {},
    "version_major": 2,
    "version_minor": 0
   }
  }
 },
 "nbformat": 4,
 "nbformat_minor": 5
}
