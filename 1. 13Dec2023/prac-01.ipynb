{
 "cells": [
  {
   "cell_type": "code",
   "execution_count": 1,
   "id": "2ed6e87a-3d57-44d9-8b19-a13372ce734c",
   "metadata": {},
   "outputs": [],
   "source": [
    "import cv2\n",
    "img=cv2.imread(\"shawon.jpeg\",1)\n",
    "cv2.imshow(\"Shawon Bhalo Manush\",img)\n",
    "cv2.waitKey(0)\n",
    "cv2.destroyAllWindows()"
   ]
  },
  {
   "cell_type": "code",
   "execution_count": 6,
   "id": "5912abc5-6b4e-40f4-8a54-7be392a58a7e",
   "metadata": {},
   "outputs": [],
   "source": [
    "B,G,R=cv2.split(img)\n",
    "C=1-(B/255.0)\n",
    "M=1-(G/255.0)\n",
    "Y=1-(R/255.0)\n",
    "\n",
    "cv2.imshow(\"C\",C)\n",
    "cv2.waitKey(0)\n",
    "cv2.destroyAllWindows()\n",
    "\n",
    "cv2.imshow(\"M\",M)\n",
    "cv2.waitKey(0)\n",
    "cv2.destroyAllWindows()\n",
    "\n",
    "cv2.imshow(\"Y\",Y)\n",
    "cv2.waitKey(0)\n",
    "cv2.destroyAllWindows()\n"
   ]
  },
  {
   "cell_type": "code",
   "execution_count": 2,
   "id": "8721c432-576f-4730-b344-b017835ee454",
   "metadata": {},
   "outputs": [],
   "source": [
    "import imutils\n",
    "rimg=imutils.rotate(img,45)\n",
    "\n",
    "cv2.imshow(\"igg\",rimg)\n",
    "cv2.waitKey(0)\n",
    "cv2.destroyAllWindows()"
   ]
  },
  {
   "cell_type": "code",
   "execution_count": null,
   "id": "e8061c32-7e49-463a-b620-e32624dba91e",
   "metadata": {},
   "outputs": [],
   "source": []
  }
 ],
 "metadata": {
  "kernelspec": {
   "display_name": "Python 3 (ipykernel)",
   "language": "python",
   "name": "python3"
  },
  "language_info": {
   "codemirror_mode": {
    "name": "ipython",
    "version": 3
   },
   "file_extension": ".py",
   "mimetype": "text/x-python",
   "name": "python",
   "nbconvert_exporter": "python",
   "pygments_lexer": "ipython3",
   "version": "3.11.4"
  },
  "widgets": {
   "application/vnd.jupyter.widget-state+json": {
    "state": {},
    "version_major": 2,
    "version_minor": 0
   }
  }
 },
 "nbformat": 4,
 "nbformat_minor": 5
}
