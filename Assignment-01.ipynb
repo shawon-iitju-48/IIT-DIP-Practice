{
 "cells": [
  {
   "cell_type": "markdown",
   "id": "25c83468-b872-4b6f-8f92-3c4067d6b39d",
   "metadata": {},
   "source": [
    "# Task-01 , Question-A"
   ]
  },
  {
   "cell_type": "code",
   "execution_count": 2,
   "id": "dd6498f7-fe3a-43cc-b508-247bced49cf5",
   "metadata": {},
   "outputs": [],
   "source": [
    "x = [[1, 2, 3, 4, 5], [21, 22, 23, 24, 25], [31, 32, 33, 34, 35]]"
   ]
  },
  {
   "cell_type": "code",
   "execution_count": 3,
   "id": "28a73864-15e2-45ae-b56e-71c7957088b6",
   "metadata": {},
   "outputs": [
    {
     "data": {
      "text/plain": [
       "[[1, 2, 3, 4, 5], [21, 22, 23, 24, 25], [31, 32, 33, 34, 35]]"
      ]
     },
     "execution_count": 3,
     "metadata": {},
     "output_type": "execute_result"
    }
   ],
   "source": [
    "x"
   ]
  },
  {
   "cell_type": "code",
   "execution_count": 4,
   "id": "65c84085-3c78-4000-87a8-19a1ef1ec64a",
   "metadata": {},
   "outputs": [
    {
     "data": {
      "text/plain": [
       "[31, 32, 33, 34, 35]"
      ]
     },
     "execution_count": 4,
     "metadata": {},
     "output_type": "execute_result"
    }
   ],
   "source": [
    "x[2]"
   ]
  },
  {
   "cell_type": "code",
   "execution_count": 5,
   "id": "55db0a27-2162-4dcc-9b2f-8e8ba3e42300",
   "metadata": {},
   "outputs": [
    {
     "data": {
      "text/plain": [
       "23"
      ]
     },
     "execution_count": 5,
     "metadata": {},
     "output_type": "execute_result"
    }
   ],
   "source": [
    "x[1][2]"
   ]
  },
  {
   "cell_type": "code",
   "execution_count": 6,
   "id": "c1073d1c-57e1-414a-813e-6d8c4965aba1",
   "metadata": {},
   "outputs": [
    {
     "data": {
      "text/plain": [
       "[22, 23]"
      ]
     },
     "execution_count": 6,
     "metadata": {},
     "output_type": "execute_result"
    }
   ],
   "source": [
    "x[1][1:3]"
   ]
  },
  {
   "cell_type": "code",
   "execution_count": 7,
   "id": "3363bc67-0166-4da1-9e06-52aab3652564",
   "metadata": {},
   "outputs": [
    {
     "data": {
      "text/plain": [
       "[1, 3, 5]"
      ]
     },
     "execution_count": 7,
     "metadata": {},
     "output_type": "execute_result"
    }
   ],
   "source": [
    "list(filter(lambda tem: (tem % 2 == 1), x[0]))"
   ]
  },
  {
   "cell_type": "markdown",
   "id": "61fb97cd-9cc0-459e-8f5c-e69970834641",
   "metadata": {},
   "source": [
    "# Task-01 , Question-B"
   ]
  },
  {
   "cell_type": "code",
   "execution_count": 8,
   "id": "8281bbc9-3844-4fb8-bf8b-85511cba3961",
   "metadata": {},
   "outputs": [],
   "source": [
    "y=[0,0,0]"
   ]
  },
  {
   "cell_type": "code",
   "execution_count": 9,
   "id": "668fa027-25b1-4501-bedf-233e98580fc3",
   "metadata": {},
   "outputs": [],
   "source": [
    "from statistics import mean\n",
    "for i in range(0,3):\n",
    "    y[i]=mean(x[i])"
   ]
  },
  {
   "cell_type": "code",
   "execution_count": 10,
   "id": "30da7675-59b0-46de-95a4-371b43710462",
   "metadata": {},
   "outputs": [
    {
     "name": "stdout",
     "output_type": "stream",
     "text": [
      "[3, 23, 33]\n"
     ]
    }
   ],
   "source": [
    "print(y)"
   ]
  },
  {
   "cell_type": "markdown",
   "id": "02dd3661-f771-4f33-8d9d-96a3343c7197",
   "metadata": {},
   "source": [
    "# Task-02 , Question-A"
   ]
  },
  {
   "cell_type": "code",
   "execution_count": 11,
   "id": "8715e2c5-0729-4733-b9eb-717339989288",
   "metadata": {},
   "outputs": [],
   "source": [
    "x = [1, 3, 5, 6, 7, 8, 6, 1, 2, 3]\n",
    "y = [0, 0, 0, 0, 0, 0, 0, 0]"
   ]
  },
  {
   "cell_type": "code",
   "execution_count": 12,
   "id": "f3f66b0f-0db6-4279-aa99-ae4a49c4e230",
   "metadata": {},
   "outputs": [],
   "source": [
    "i=0\n",
    "j=0;\n",
    "while i < 8:\n",
    "    y[i]=mean(x[j:j+3])\n",
    "    j=j+1\n",
    "    i=i+1"
   ]
  },
  {
   "cell_type": "code",
   "execution_count": 13,
   "id": "0594eb09-af9f-4400-896c-d40981b0cae9",
   "metadata": {},
   "outputs": [
    {
     "data": {
      "text/plain": [
       "[3, 4.666666666666667, 6, 7, 7, 5, 3, 2]"
      ]
     },
     "execution_count": 13,
     "metadata": {},
     "output_type": "execute_result"
    }
   ],
   "source": [
    "y"
   ]
  },
  {
   "cell_type": "markdown",
   "id": "657d8a4c-cd59-445e-b434-134705a35444",
   "metadata": {},
   "source": [
    "# Task-02 , Question-B"
   ]
  },
  {
   "cell_type": "code",
   "execution_count": 14,
   "id": "fb1a2356-bd33-4607-be45-944bc8a47336",
   "metadata": {},
   "outputs": [],
   "source": [
    "def averagedao(x):\n",
    "    return mean(x)"
   ]
  },
  {
   "cell_type": "code",
   "execution_count": 15,
   "id": "573544a7-77ba-4835-a8ea-b11cd2db16a6",
   "metadata": {},
   "outputs": [
    {
     "data": {
      "text/plain": [
       "4.2"
      ]
     },
     "execution_count": 15,
     "metadata": {},
     "output_type": "execute_result"
    }
   ],
   "source": [
    "averagedao(x)"
   ]
  },
  {
   "cell_type": "code",
   "execution_count": 17,
   "id": "10179a08-99d3-4250-b762-99b307b1aa87",
   "metadata": {},
   "outputs": [
    {
     "name": "stdout",
     "output_type": "stream",
     "text": [
      "4.708333333333333\n"
     ]
    }
   ],
   "source": [
    "print(averagedao(y))"
   ]
  },
  {
   "cell_type": "code",
   "execution_count": null,
   "id": "f07023e2-0071-4ee6-87d1-a7419f2c4bb3",
   "metadata": {},
   "outputs": [],
   "source": []
  }
 ],
 "metadata": {
  "kernelspec": {
   "display_name": "Python 3 (ipykernel)",
   "language": "python",
   "name": "python3"
  },
  "language_info": {
   "codemirror_mode": {
    "name": "ipython",
    "version": 3
   },
   "file_extension": ".py",
   "mimetype": "text/x-python",
   "name": "python",
   "nbconvert_exporter": "python",
   "pygments_lexer": "ipython3",
   "version": "3.11.4"
  },
  "widgets": {
   "application/vnd.jupyter.widget-state+json": {
    "state": {},
    "version_major": 2,
    "version_minor": 0
   }
  }
 },
 "nbformat": 4,
 "nbformat_minor": 5
}
