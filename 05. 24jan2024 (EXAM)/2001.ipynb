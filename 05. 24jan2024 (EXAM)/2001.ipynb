{
 "cells": [
  {
   "cell_type": "markdown",
   "id": "e3324863-dcae-4be0-b65f-10af988e436c",
   "metadata": {},
   "source": [
    "# Task-01"
   ]
  },
  {
   "cell_type": "code",
   "execution_count": 26,
   "id": "f106d6c4-0201-4fab-9592-f49f7963031d",
   "metadata": {},
   "outputs": [],
   "source": [
    "import cv2\n",
    "import PIL.Image \n",
    "import matplotlib.pyplot as plt\n",
    "import os"
   ]
  },
  {
   "cell_type": "code",
   "execution_count": 22,
   "id": "fb0dd54b-72af-4b21-a763-68ed0ea4bb56",
   "metadata": {},
   "outputs": [],
   "source": [
    "img=cv2.imread(r\"C:\\Users\\shawo\\Documents\\PythonPrep\\IIT-DIP-Practice\\5. 24jan2024 (EXAM)\\shawon.jpg\",1)\n",
    "img=cv2.resize(img,(500,600))\n",
    "cv2.imshow(\"My Image\",img)\n",
    "cv2.waitKey(0)\n",
    "cv2.destroyAllWindows()"
   ]
  },
  {
   "cell_type": "code",
   "execution_count": 25,
   "id": "89366ba6-5bfa-4483-82b0-a7186b8a4a22",
   "metadata": {},
   "outputs": [],
   "source": [
    "B,G,R=cv2.split(img)\n",
    "\n",
    "cv2.imshow(\"Blue Image\",B)\n",
    "cv2.imshow(\"Green Image\",G)\n",
    "cv2.imshow(\"Red Image\",R)\n",
    "cv2.waitKey(0)\n",
    "cv2.destroyAllWindows()"
   ]
  },
  {
   "cell_type": "code",
   "execution_count": 32,
   "id": "c9b01e65-aefe-4cf5-99ac-ebc9006e320e",
   "metadata": {},
   "outputs": [
    {
     "name": "stdout",
     "output_type": "stream",
     "text": [
      "Before save: \n"
     ]
    },
    {
     "data": {
      "text/plain": [
       "['.ipynb_checkpoints']"
      ]
     },
     "execution_count": 32,
     "metadata": {},
     "output_type": "execute_result"
    }
   ],
   "source": [
    "directory=r\"C:\\Users\\shawo\\Documents\\PythonPrep\\IIT-DIP-Practice\\5. 24jan2024 (EXAM)\\Output\"\n",
    "os.chdir(directory)\n",
    "print(\"Before save: \")\n",
    "os.listdir()"
   ]
  },
  {
   "cell_type": "code",
   "execution_count": 33,
   "id": "2348ac04-39cd-4d46-a10c-71c4d9a97a78",
   "metadata": {},
   "outputs": [
    {
     "name": "stdout",
     "output_type": "stream",
     "text": [
      "After save: \n"
     ]
    },
    {
     "data": {
      "text/plain": [
       "['.ipynb_checkpoints', 'Blue.jpg', 'Green.jpg', 'Red.jpg']"
      ]
     },
     "execution_count": 33,
     "metadata": {},
     "output_type": "execute_result"
    }
   ],
   "source": [
    "cv2.imwrite(\"Blue.jpg\",B)\n",
    "cv2.imwrite(\"Green.jpg\",G)\n",
    "cv2.imwrite(\"Red.jpg\",R)\n",
    "print(\"After save: \")\n",
    "os.listdir()"
   ]
  },
  {
   "cell_type": "markdown",
   "id": "31f1c88a-fc5a-4683-ba6f-f59f5b794efd",
   "metadata": {},
   "source": [
    "# Task-02"
   ]
  },
  {
   "cell_type": "code",
   "execution_count": null,
   "id": "4be6b56c-b7f2-4be5-be70-01195cbdc4ed",
   "metadata": {},
   "outputs": [],
   "source": [
    "C=1-(R/255.0)\n",
    "M=1-(R/255.0)\n",
    "Y=1-(R/255.0)\n",
    "K=1-(R/255.0)\n"
   ]
  }
 ],
 "metadata": {
  "kernelspec": {
   "display_name": "Python 3 (ipykernel)",
   "language": "python",
   "name": "python3"
  },
  "language_info": {
   "codemirror_mode": {
    "name": "ipython",
    "version": 3
   },
   "file_extension": ".py",
   "mimetype": "text/x-python",
   "name": "python",
   "nbconvert_exporter": "python",
   "pygments_lexer": "ipython3",
   "version": "3.11.4"
  },
  "widgets": {
   "application/vnd.jupyter.widget-state+json": {
    "state": {},
    "version_major": 2,
    "version_minor": 0
   }
  }
 },
 "nbformat": 4,
 "nbformat_minor": 5
}
